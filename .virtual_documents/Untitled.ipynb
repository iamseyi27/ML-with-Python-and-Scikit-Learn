





import pandas as pd


medical_df = pd.read_csv('.\insurance.csv')


medical_df





medical_df.info()





medical_df.describe()



